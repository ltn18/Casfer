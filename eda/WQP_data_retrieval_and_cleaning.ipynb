{
  "nbformat": 4,
  "nbformat_minor": 0,
  "metadata": {
    "colab": {
      "provenance": []
    },
    "kernelspec": {
      "name": "python3",
      "display_name": "Python 3"
    },
    "language_info": {
      "name": "python"
    }
  },
  "cells": [
    {
      "cell_type": "code",
      "execution_count": null,
      "metadata": {
        "id": "zJ08KLYepppj"
      },
      "outputs": [],
      "source": [
        "# data source https://www.waterqualitydata.us/\n",
        "# data can be downloaded with Advanced Download in the data source above\n",
        "# we can use API to download data also (can do in python instead of R)\n",
        "# we will only look at station monitoring streams"
      ]
    },
    {
      "cell_type": "code",
      "source": [
        "from google.colab import drive\n",
        "drive.mount('/content/drive')"
      ],
      "metadata": {
        "colab": {
          "base_uri": "https://localhost:8080/"
        },
        "id": "ORzeKKI0p3XZ",
        "outputId": "6bcd9513-51e5-4ca7-832d-bb6c187e2f42"
      },
      "execution_count": null,
      "outputs": [
        {
          "output_type": "stream",
          "name": "stdout",
          "text": [
            "Mounted at /content/drive\n"
          ]
        }
      ]
    },
    {
      "cell_type": "code",
      "source": [
        "import os\n",
        "\n",
        "path = '/content/drive/My Drive/CASFER'\n",
        "os.chdir(path)\n",
        "# os.getcwd()"
      ],
      "metadata": {
        "id": "5IB_o0eHq0wR"
      },
      "execution_count": null,
      "outputs": []
    },
    {
      "cell_type": "code",
      "source": [
        "import pandas as pd\n",
        "\n",
        "# perform a more complex read_csv to get the construction date and lat/lon\n",
        "data_src = 'station.csv'\n",
        "data = pd.read_csv(os.path.join(path, data_src), dtype={\n",
        "    'ConstructionDateText':\"string\", \n",
        "    'LatitudeMeasure':float,\n",
        "    'LongitudeMeasure':float,\n",
        "    'AquiferTypeName':\"string\",\n",
        "    'HUCEightDigitCode':\"string\"\n",
        "})"
      ],
      "metadata": {
        "id": "oZ3qTXu0rjSl"
      },
      "execution_count": null,
      "outputs": []
    },
    {
      "cell_type": "code",
      "source": [
        "# filter NA data\n",
        "# data.dropna(axis=1, how='all', inplace=True)\n",
        "selected_cols = [\n",
        "  'ConstructionDateText', \n",
        "  'LatitudeMeasure', \n",
        "  'LongitudeMeasure', \n",
        "  'HUCEightDigitCode',\n",
        "  'CountryCode',\n",
        "  'StateCode',\n",
        "  'CountyCode',\n",
        "]\n",
        "data.dropna(subset=selected_cols, inplace=True)"
      ],
      "metadata": {
        "id": "J8eLQoEib7J6"
      },
      "execution_count": null,
      "outputs": []
    },
    {
      "cell_type": "code",
      "source": [
        "columns = list([c for c in data.columns])\n",
        "indexes = [\n",
        " 'OrganizationIdentifier',\n",
        " 'OrganizationFormalName',\n",
        " 'MonitoringLocationIdentifier',\n",
        " 'MonitoringLocationName',\n",
        " 'MonitoringLocationTypeName',\n",
        " 'HUCEightDigitCode',\n",
        " 'LatitudeMeasure',\n",
        " 'LongitudeMeasure',\n",
        " 'CountryCode',\n",
        " 'StateCode',\n",
        " 'CountyCode',\n",
        "]\n",
        "columns"
      ],
      "metadata": {
        "colab": {
          "base_uri": "https://localhost:8080/"
        },
        "id": "ixwPAjOftNWO",
        "outputId": "4cdb890e-1e1e-4c07-a5ad-dbf91dcd167f"
      },
      "execution_count": null,
      "outputs": [
        {
          "output_type": "execute_result",
          "data": {
            "text/plain": [
              "['OrganizationIdentifier',\n",
              " 'OrganizationFormalName',\n",
              " 'MonitoringLocationIdentifier',\n",
              " 'MonitoringLocationName',\n",
              " 'MonitoringLocationTypeName',\n",
              " 'MonitoringLocationDescriptionText',\n",
              " 'HUCEightDigitCode',\n",
              " 'DrainageAreaMeasure/MeasureValue',\n",
              " 'DrainageAreaMeasure/MeasureUnitCode',\n",
              " 'ContributingDrainageAreaMeasure/MeasureValue',\n",
              " 'ContributingDrainageAreaMeasure/MeasureUnitCode',\n",
              " 'LatitudeMeasure',\n",
              " 'LongitudeMeasure',\n",
              " 'SourceMapScaleNumeric',\n",
              " 'HorizontalAccuracyMeasure/MeasureValue',\n",
              " 'HorizontalAccuracyMeasure/MeasureUnitCode',\n",
              " 'HorizontalCollectionMethodName',\n",
              " 'HorizontalCoordinateReferenceSystemDatumName',\n",
              " 'VerticalMeasure/MeasureValue',\n",
              " 'VerticalMeasure/MeasureUnitCode',\n",
              " 'VerticalAccuracyMeasure/MeasureValue',\n",
              " 'VerticalAccuracyMeasure/MeasureUnitCode',\n",
              " 'VerticalCollectionMethodName',\n",
              " 'VerticalCoordinateReferenceSystemDatumName',\n",
              " 'CountryCode',\n",
              " 'StateCode',\n",
              " 'CountyCode',\n",
              " 'AquiferName',\n",
              " 'LocalAqfrName',\n",
              " 'FormationTypeText',\n",
              " 'AquiferTypeName',\n",
              " 'ConstructionDateText',\n",
              " 'WellDepthMeasure/MeasureValue',\n",
              " 'WellDepthMeasure/MeasureUnitCode',\n",
              " 'WellHoleDepthMeasure/MeasureValue',\n",
              " 'WellHoleDepthMeasure/MeasureUnitCode',\n",
              " 'ProviderName']"
            ]
          },
          "metadata": {},
          "execution_count": 22
        }
      ]
    },
    {
      "cell_type": "code",
      "source": [
        "# data.head()\n",
        "data['MonitoringLocationIdentifier'].unique()"
      ],
      "metadata": {
        "colab": {
          "base_uri": "https://localhost:8080/"
        },
        "id": "x6XY5PO12VIm",
        "outputId": "5e2cba8d-9c39-497b-a84f-6135de87a4c2"
      },
      "execution_count": null,
      "outputs": [
        {
          "output_type": "execute_result",
          "data": {
            "text/plain": [
              "array(['USGS-15080000', 'USGS-15092000', 'USGS-15237030', ...,\n",
              "       'USGS-474926104030101', 'USGS-482800109494001',\n",
              "       'USGS-485134104594201'], dtype=object)"
            ]
          },
          "metadata": {},
          "execution_count": 25
        }
      ]
    },
    {
      "cell_type": "code",
      "source": [
        "def all_non_null(data, columns):\n",
        "  valid = True\n",
        "  for col in columns:\n",
        "   valid = valid and (not data[col].isnull().values.any())\n",
        "  return valid"
      ],
      "metadata": {
        "id": "odV5W5aZ4c_-"
      },
      "execution_count": null,
      "outputs": []
    },
    {
      "cell_type": "code",
      "source": [
        "print(all_non_null(data, selected_cols))"
      ],
      "metadata": {
        "colab": {
          "base_uri": "https://localhost:8080/"
        },
        "id": "Ed6edCmN3OK5",
        "outputId": "0ad0438c-a3b0-4c6e-d9c6-9a5784c20f9d"
      },
      "execution_count": null,
      "outputs": [
        {
          "output_type": "stream",
          "name": "stdout",
          "text": [
            "True\n"
          ]
        }
      ]
    },
    {
      "cell_type": "code",
      "source": [
        "output_data = data[selected_cols]\n",
        "output_data.head()"
      ],
      "metadata": {
        "colab": {
          "base_uri": "https://localhost:8080/",
          "height": 206
        },
        "id": "1A_smJUQ5avB",
        "outputId": "60fb8fd7-ebeb-435a-81fa-2721cc06c9b0"
      },
      "execution_count": null,
      "outputs": [
        {
          "output_type": "execute_result",
          "data": {
            "text/plain": [
              "     ConstructionDateText  LatitudeMeasure  LongitudeMeasure  \\\n",
              "225              19150529        55.826083       -131.463361   \n",
              "311              19510625        56.506575       -134.969750   \n",
              "569              20190729        60.451889       -148.108000   \n",
              "1666             19450101        52.716997        174.116118   \n",
              "1667             19450101        52.732830        174.091950   \n",
              "\n",
              "     HUCEightDigitCode CountryCode  StateCode  CountyCode  \n",
              "225           19010102          US          2         130  \n",
              "311           19010212          US          2         220  \n",
              "569           19020201          US          2         261  \n",
              "1666          19030103          US          2          16  \n",
              "1667          19030103          US          2          16  "
            ],
            "text/html": [
              "\n",
              "  <div id=\"df-ae075e49-7ee6-4ecb-92dc-6fcc76f7d976\">\n",
              "    <div class=\"colab-df-container\">\n",
              "      <div>\n",
              "<style scoped>\n",
              "    .dataframe tbody tr th:only-of-type {\n",
              "        vertical-align: middle;\n",
              "    }\n",
              "\n",
              "    .dataframe tbody tr th {\n",
              "        vertical-align: top;\n",
              "    }\n",
              "\n",
              "    .dataframe thead th {\n",
              "        text-align: right;\n",
              "    }\n",
              "</style>\n",
              "<table border=\"1\" class=\"dataframe\">\n",
              "  <thead>\n",
              "    <tr style=\"text-align: right;\">\n",
              "      <th></th>\n",
              "      <th>ConstructionDateText</th>\n",
              "      <th>LatitudeMeasure</th>\n",
              "      <th>LongitudeMeasure</th>\n",
              "      <th>HUCEightDigitCode</th>\n",
              "      <th>CountryCode</th>\n",
              "      <th>StateCode</th>\n",
              "      <th>CountyCode</th>\n",
              "    </tr>\n",
              "  </thead>\n",
              "  <tbody>\n",
              "    <tr>\n",
              "      <th>225</th>\n",
              "      <td>19150529</td>\n",
              "      <td>55.826083</td>\n",
              "      <td>-131.463361</td>\n",
              "      <td>19010102</td>\n",
              "      <td>US</td>\n",
              "      <td>2</td>\n",
              "      <td>130</td>\n",
              "    </tr>\n",
              "    <tr>\n",
              "      <th>311</th>\n",
              "      <td>19510625</td>\n",
              "      <td>56.506575</td>\n",
              "      <td>-134.969750</td>\n",
              "      <td>19010212</td>\n",
              "      <td>US</td>\n",
              "      <td>2</td>\n",
              "      <td>220</td>\n",
              "    </tr>\n",
              "    <tr>\n",
              "      <th>569</th>\n",
              "      <td>20190729</td>\n",
              "      <td>60.451889</td>\n",
              "      <td>-148.108000</td>\n",
              "      <td>19020201</td>\n",
              "      <td>US</td>\n",
              "      <td>2</td>\n",
              "      <td>261</td>\n",
              "    </tr>\n",
              "    <tr>\n",
              "      <th>1666</th>\n",
              "      <td>19450101</td>\n",
              "      <td>52.716997</td>\n",
              "      <td>174.116118</td>\n",
              "      <td>19030103</td>\n",
              "      <td>US</td>\n",
              "      <td>2</td>\n",
              "      <td>16</td>\n",
              "    </tr>\n",
              "    <tr>\n",
              "      <th>1667</th>\n",
              "      <td>19450101</td>\n",
              "      <td>52.732830</td>\n",
              "      <td>174.091950</td>\n",
              "      <td>19030103</td>\n",
              "      <td>US</td>\n",
              "      <td>2</td>\n",
              "      <td>16</td>\n",
              "    </tr>\n",
              "  </tbody>\n",
              "</table>\n",
              "</div>\n",
              "      <button class=\"colab-df-convert\" onclick=\"convertToInteractive('df-ae075e49-7ee6-4ecb-92dc-6fcc76f7d976')\"\n",
              "              title=\"Convert this dataframe to an interactive table.\"\n",
              "              style=\"display:none;\">\n",
              "        \n",
              "  <svg xmlns=\"http://www.w3.org/2000/svg\" height=\"24px\"viewBox=\"0 0 24 24\"\n",
              "       width=\"24px\">\n",
              "    <path d=\"M0 0h24v24H0V0z\" fill=\"none\"/>\n",
              "    <path d=\"M18.56 5.44l.94 2.06.94-2.06 2.06-.94-2.06-.94-.94-2.06-.94 2.06-2.06.94zm-11 1L8.5 8.5l.94-2.06 2.06-.94-2.06-.94L8.5 2.5l-.94 2.06-2.06.94zm10 10l.94 2.06.94-2.06 2.06-.94-2.06-.94-.94-2.06-.94 2.06-2.06.94z\"/><path d=\"M17.41 7.96l-1.37-1.37c-.4-.4-.92-.59-1.43-.59-.52 0-1.04.2-1.43.59L10.3 9.45l-7.72 7.72c-.78.78-.78 2.05 0 2.83L4 21.41c.39.39.9.59 1.41.59.51 0 1.02-.2 1.41-.59l7.78-7.78 2.81-2.81c.8-.78.8-2.07 0-2.86zM5.41 20L4 18.59l7.72-7.72 1.47 1.35L5.41 20z\"/>\n",
              "  </svg>\n",
              "      </button>\n",
              "      \n",
              "  <style>\n",
              "    .colab-df-container {\n",
              "      display:flex;\n",
              "      flex-wrap:wrap;\n",
              "      gap: 12px;\n",
              "    }\n",
              "\n",
              "    .colab-df-convert {\n",
              "      background-color: #E8F0FE;\n",
              "      border: none;\n",
              "      border-radius: 50%;\n",
              "      cursor: pointer;\n",
              "      display: none;\n",
              "      fill: #1967D2;\n",
              "      height: 32px;\n",
              "      padding: 0 0 0 0;\n",
              "      width: 32px;\n",
              "    }\n",
              "\n",
              "    .colab-df-convert:hover {\n",
              "      background-color: #E2EBFA;\n",
              "      box-shadow: 0px 1px 2px rgba(60, 64, 67, 0.3), 0px 1px 3px 1px rgba(60, 64, 67, 0.15);\n",
              "      fill: #174EA6;\n",
              "    }\n",
              "\n",
              "    [theme=dark] .colab-df-convert {\n",
              "      background-color: #3B4455;\n",
              "      fill: #D2E3FC;\n",
              "    }\n",
              "\n",
              "    [theme=dark] .colab-df-convert:hover {\n",
              "      background-color: #434B5C;\n",
              "      box-shadow: 0px 1px 3px 1px rgba(0, 0, 0, 0.15);\n",
              "      filter: drop-shadow(0px 1px 2px rgba(0, 0, 0, 0.3));\n",
              "      fill: #FFFFFF;\n",
              "    }\n",
              "  </style>\n",
              "\n",
              "      <script>\n",
              "        const buttonEl =\n",
              "          document.querySelector('#df-ae075e49-7ee6-4ecb-92dc-6fcc76f7d976 button.colab-df-convert');\n",
              "        buttonEl.style.display =\n",
              "          google.colab.kernel.accessAllowed ? 'block' : 'none';\n",
              "\n",
              "        async function convertToInteractive(key) {\n",
              "          const element = document.querySelector('#df-ae075e49-7ee6-4ecb-92dc-6fcc76f7d976');\n",
              "          const dataTable =\n",
              "            await google.colab.kernel.invokeFunction('convertToInteractive',\n",
              "                                                     [key], {});\n",
              "          if (!dataTable) return;\n",
              "\n",
              "          const docLinkHtml = 'Like what you see? Visit the ' +\n",
              "            '<a target=\"_blank\" href=https://colab.research.google.com/notebooks/data_table.ipynb>data table notebook</a>'\n",
              "            + ' to learn more about interactive tables.';\n",
              "          element.innerHTML = '';\n",
              "          dataTable['output_type'] = 'display_data';\n",
              "          await google.colab.output.renderOutput(dataTable, element);\n",
              "          const docLink = document.createElement('div');\n",
              "          docLink.innerHTML = docLinkHtml;\n",
              "          element.appendChild(docLink);\n",
              "        }\n",
              "      </script>\n",
              "    </div>\n",
              "  </div>\n",
              "  "
            ]
          },
          "metadata": {},
          "execution_count": 40
        }
      ]
    },
    {
      "cell_type": "code",
      "source": [
        "output_data.to_csv(os.path.join(path,'output.csv'))"
      ],
      "metadata": {
        "id": "b43g_yuA54Qi"
      },
      "execution_count": null,
      "outputs": []
    },
    {
      "cell_type": "code",
      "source": [
        "compression_opts = dict(method='zip', archive_name='filtered_data.csv')\n",
        "data.to_csv(os.path.join(path, 'filtered_data.csv'), index=False,\n",
        "          compression=compression_opts)"
      ],
      "metadata": {
        "id": "9SdwYKdfdIJ4"
      },
      "execution_count": null,
      "outputs": []
    }
  ]
}